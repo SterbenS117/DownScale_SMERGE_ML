{
 "cells": [
  {
   "cell_type": "code",
   "execution_count": 14,
   "metadata": {
    "id": "NYsvHBJh1MJK"
   },
   "outputs": [],
   "source": [
    "import arcpy\n",
    "import os\n",
    "import pandas as pd\n",
    "import re"
   ]
  },
  {
   "cell_type": "code",
   "execution_count": 15,
   "metadata": {
    "id": "7tiinpOY1bsJ"
   },
   "outputs": [],
   "source": [
    "arcpy.env.overwriteOutput = True"
   ]
  },
  {
   "cell_type": "code",
   "execution_count": 16,
   "metadata": {
    "id": "EtzXzC7G1byw"
   },
   "outputs": [
    {
     "name": "stdout",
     "output_type": "stream",
     "text": [
      "Enter the name of the data product: SMERGE\n"
     ]
    }
   ],
   "source": [
    "# Set data product name\n",
    "product = input(\"Enter the name of the data product: \")"
   ]
  },
  {
   "cell_type": "code",
   "execution_count": 17,
   "metadata": {
    "id": "UGSLIr-81b47"
   },
   "outputs": [
    {
     "name": "stdout",
     "output_type": "stream",
     "text": [
      "Enter the input directory: E:\\share\\BIgRun\\Smerge\n"
     ]
    }
   ],
   "source": [
    "# Set the input directory\n",
    "input_dir = input(\"Enter the input directory: \")"
   ]
  },
  {
   "cell_type": "code",
   "execution_count": 18,
   "metadata": {
    "id": "JGqb0IUm2SMr"
   },
   "outputs": [
    {
     "name": "stdout",
     "output_type": "stream",
     "text": [
      "Enter the output directory: E:\\share\\BIgRun\\Smerge_layer\n"
     ]
    }
   ],
   "source": [
    "# Set the output directory\n",
    "output_dir = input(\"Enter the output directory: \")"
   ]
  },
  {
   "cell_type": "code",
   "execution_count": 19,
   "metadata": {
    "id": "LzRO2ZkP2SQF"
   },
   "outputs": [
    {
     "name": "stdout",
     "output_type": "stream",
     "text": [
      "Enter the layer name to be extracted: RZSM\n"
     ]
    }
   ],
   "source": [
    "# Set the layer name\n",
    "layer_name = input(\"Enter the layer name to be extracted: \")"
   ]
  },
  {
   "cell_type": "code",
   "execution_count": 20,
   "metadata": {
    "id": "RMGsmG-62ST_"
   },
   "outputs": [
    {
     "name": "stdout",
     "output_type": "stream",
     "text": [
      "Enter the date offset, if there is none enter 0: 0\n"
     ]
    }
   ],
   "source": [
    "# Read list of dates\n",
    "text_file = open(\"dates.txt\", \"r\")\n",
    "\n",
    "while not os.path.exists(\"dates.txt\"):\n",
    "    print('The date list txt was not found, should be in the same directory as the .py script')\n",
    "    co = input(\"Press enter to try again\")\n",
    "date = text_file.read().split(',')\n",
    "\n",
    "offset = input('Enter the date offset, if there is none enter 0: ')\n",
    "try:\n",
    "    offset = int(offset)\n",
    "except:\n",
    "    while offset.isnumeric():\n",
    "        offset = input('Offset given was not an integer value, please try again: ')"
   ]
  },
  {
   "cell_type": "code",
   "execution_count": 21,
   "metadata": {},
   "outputs": [
    {
     "name": "stdout",
     "output_type": "stream",
     "text": [
      "Enter the number of month lag: 0\n",
      "Enter file extention: .nc4\n",
      "Enter filename seperator: _\n",
      "Enter postion of the date with in the filenames, starting at index 0, example ALB_2000123 postion is 1:7\n",
      "Enter the year you wish to process: to process all leave blank and press enter: \n",
      "If file use \"%Y%j\" type A, if \"%Y%m%y\" type B: B\n"
     ]
    }
   ],
   "source": [
    "# Month Lag\n",
    "lag = input(\"Enter the number of month lag: \")\n",
    "lag = int(lag)\n",
    "# File type\n",
    "ftype = input(\"Enter file extention: \")\n",
    "# Filename seperator\n",
    "sep = input(\"Enter filename seperator: \")\n",
    "#Date postiton\n",
    "d_pos = input('Enter postion of the date with in the filenames, starting at index 0, example ALB_2000123 postion is 1:')\n",
    "d_pos = int(d_pos)\n",
    "# Year batch\n",
    "yer = input(\"Enter the year you wish to process: to process all leave blank and press enter: \")\n",
    "# Date Formating\n",
    "d_f = input('If file use \"%Y%j\" type A, if \"%Y%m%y\" type B: ')\n",
    "while d_f != 'A' and d_f != 'B':\n",
    "    d_f = input('Input ERROR, If file use \"%Y%j\" type A, if \"%Y%m%y\" type B: ')\n",
    "if d_f == 'A':\n",
    "    d_format = '%Y%j'\n",
    "if d_f == 'B':\n",
    "    d_format = '%Y%m%d'"
   ]
  },
  {
   "cell_type": "code",
   "execution_count": 25,
   "metadata": {
    "id": "2nfAYWzM39u7",
    "scrolled": true
   },
   "outputs": [
    {
     "name": "stdout",
     "output_type": "stream",
     "text": [
      "Smerge_Noah_CCI_L4_RZSM0_40cm_V2.0_20160404.nc4\n",
      "Smerge_Noah_CCI_L4_RZSM0_40cm_V2.0_20160411.nc4\n",
      "Smerge_Noah_CCI_L4_RZSM0_40cm_V2.0_20160418.nc4\n",
      "Smerge_Noah_CCI_L4_RZSM0_40cm_V2.0_20160425.nc4\n",
      "Smerge_Noah_CCI_L4_RZSM0_40cm_V2.0_20160502.nc4\n",
      "Smerge_Noah_CCI_L4_RZSM0_40cm_V2.0_20160509.nc4\n",
      "Smerge_Noah_CCI_L4_RZSM0_40cm_V2.0_20160516.nc4\n",
      "Smerge_Noah_CCI_L4_RZSM0_40cm_V2.0_20160523.nc4\n",
      "Smerge_Noah_CCI_L4_RZSM0_40cm_V2.0_20160530.nc4\n",
      "Smerge_Noah_CCI_L4_RZSM0_40cm_V2.0_20160606.nc4\n",
      "Smerge_Noah_CCI_L4_RZSM0_40cm_V2.0_20160613.nc4\n",
      "Smerge_Noah_CCI_L4_RZSM0_40cm_V2.0_20160620.nc4\n",
      "Smerge_Noah_CCI_L4_RZSM0_40cm_V2.0_20160627.nc4\n",
      "Smerge_Noah_CCI_L4_RZSM0_40cm_V2.0_20160704.nc4\n",
      "Smerge_Noah_CCI_L4_RZSM0_40cm_V2.0_20160711.nc4\n",
      "Smerge_Noah_CCI_L4_RZSM0_40cm_V2.0_20160718.nc4\n",
      "Smerge_Noah_CCI_L4_RZSM0_40cm_V2.0_20160725.nc4\n",
      "Smerge_Noah_CCI_L4_RZSM0_40cm_V2.0_20160801.nc4\n",
      "Smerge_Noah_CCI_L4_RZSM0_40cm_V2.0_20160808.nc4\n",
      "Smerge_Noah_CCI_L4_RZSM0_40cm_V2.0_20160815.nc4\n",
      "Smerge_Noah_CCI_L4_RZSM0_40cm_V2.0_20160822.nc4\n",
      "Smerge_Noah_CCI_L4_RZSM0_40cm_V2.0_20160829.nc4\n",
      "Smerge_Noah_CCI_L4_RZSM0_40cm_V2.0_20160905.nc4\n",
      "Smerge_Noah_CCI_L4_RZSM0_40cm_V2.0_20160912.nc4\n",
      "Smerge_Noah_CCI_L4_RZSM0_40cm_V2.0_20160919.nc4\n",
      "Smerge_Noah_CCI_L4_RZSM0_40cm_V2.0_20160926.nc4\n",
      "Smerge_Noah_CCI_L4_RZSM0_40cm_V2.0_20161003.nc4\n",
      "Smerge_Noah_CCI_L4_RZSM0_40cm_V2.0_20161010.nc4\n",
      "Smerge_Noah_CCI_L4_RZSM0_40cm_V2.0_20161017.nc4\n",
      "Smerge_Noah_CCI_L4_RZSM0_40cm_V2.0_20161024.nc4\n",
      "Smerge_Noah_CCI_L4_RZSM0_40cm_V2.0_20161031.nc4\n",
      "Smerge_Noah_CCI_L4_RZSM0_40cm_V2.0_20170403.nc4\n",
      "Smerge_Noah_CCI_L4_RZSM0_40cm_V2.0_20170410.nc4\n",
      "Smerge_Noah_CCI_L4_RZSM0_40cm_V2.0_20170417.nc4\n",
      "Smerge_Noah_CCI_L4_RZSM0_40cm_V2.0_20170424.nc4\n",
      "Smerge_Noah_CCI_L4_RZSM0_40cm_V2.0_20170501.nc4\n",
      "Smerge_Noah_CCI_L4_RZSM0_40cm_V2.0_20170508.nc4\n",
      "Smerge_Noah_CCI_L4_RZSM0_40cm_V2.0_20170515.nc4\n",
      "Smerge_Noah_CCI_L4_RZSM0_40cm_V2.0_20170522.nc4\n",
      "Smerge_Noah_CCI_L4_RZSM0_40cm_V2.0_20170529.nc4\n",
      "Smerge_Noah_CCI_L4_RZSM0_40cm_V2.0_20170605.nc4\n",
      "Smerge_Noah_CCI_L4_RZSM0_40cm_V2.0_20170612.nc4\n",
      "Smerge_Noah_CCI_L4_RZSM0_40cm_V2.0_20170619.nc4\n",
      "Smerge_Noah_CCI_L4_RZSM0_40cm_V2.0_20170626.nc4\n",
      "Smerge_Noah_CCI_L4_RZSM0_40cm_V2.0_20170703.nc4\n",
      "Smerge_Noah_CCI_L4_RZSM0_40cm_V2.0_20170710.nc4\n",
      "Smerge_Noah_CCI_L4_RZSM0_40cm_V2.0_20170717.nc4\n",
      "Smerge_Noah_CCI_L4_RZSM0_40cm_V2.0_20170724.nc4\n",
      "Smerge_Noah_CCI_L4_RZSM0_40cm_V2.0_20170731.nc4\n",
      "Smerge_Noah_CCI_L4_RZSM0_40cm_V2.0_20170807.nc4\n",
      "Smerge_Noah_CCI_L4_RZSM0_40cm_V2.0_20170814.nc4\n",
      "Smerge_Noah_CCI_L4_RZSM0_40cm_V2.0_20170821.nc4\n",
      "Smerge_Noah_CCI_L4_RZSM0_40cm_V2.0_20170828.nc4\n",
      "Smerge_Noah_CCI_L4_RZSM0_40cm_V2.0_20170904.nc4\n",
      "Smerge_Noah_CCI_L4_RZSM0_40cm_V2.0_20170911.nc4\n",
      "Smerge_Noah_CCI_L4_RZSM0_40cm_V2.0_20170918.nc4\n",
      "Smerge_Noah_CCI_L4_RZSM0_40cm_V2.0_20170925.nc4\n",
      "Smerge_Noah_CCI_L4_RZSM0_40cm_V2.0_20171002.nc4\n",
      "Smerge_Noah_CCI_L4_RZSM0_40cm_V2.0_20171009.nc4\n",
      "Smerge_Noah_CCI_L4_RZSM0_40cm_V2.0_20171016.nc4\n",
      "Smerge_Noah_CCI_L4_RZSM0_40cm_V2.0_20171023.nc4\n",
      "Smerge_Noah_CCI_L4_RZSM0_40cm_V2.0_20171030.nc4\n",
      "Smerge_Noah_CCI_L4_RZSM0_40cm_V2.0_20180402.nc4\n",
      "Smerge_Noah_CCI_L4_RZSM0_40cm_V2.0_20180409.nc4\n",
      "Smerge_Noah_CCI_L4_RZSM0_40cm_V2.0_20180416.nc4\n",
      "Smerge_Noah_CCI_L4_RZSM0_40cm_V2.0_20180423.nc4\n",
      "Smerge_Noah_CCI_L4_RZSM0_40cm_V2.0_20180430.nc4\n",
      "Smerge_Noah_CCI_L4_RZSM0_40cm_V2.0_20180507.nc4\n",
      "Smerge_Noah_CCI_L4_RZSM0_40cm_V2.0_20180514.nc4\n",
      "Smerge_Noah_CCI_L4_RZSM0_40cm_V2.0_20180521.nc4\n",
      "Smerge_Noah_CCI_L4_RZSM0_40cm_V2.0_20180528.nc4\n",
      "Smerge_Noah_CCI_L4_RZSM0_40cm_V2.0_20180604.nc4\n",
      "Smerge_Noah_CCI_L4_RZSM0_40cm_V2.0_20180611.nc4\n",
      "Smerge_Noah_CCI_L4_RZSM0_40cm_V2.0_20180618.nc4\n",
      "Smerge_Noah_CCI_L4_RZSM0_40cm_V2.0_20180625.nc4\n",
      "Smerge_Noah_CCI_L4_RZSM0_40cm_V2.0_20180702.nc4\n",
      "Smerge_Noah_CCI_L4_RZSM0_40cm_V2.0_20180709.nc4\n",
      "Smerge_Noah_CCI_L4_RZSM0_40cm_V2.0_20180716.nc4\n",
      "Smerge_Noah_CCI_L4_RZSM0_40cm_V2.0_20180723.nc4\n",
      "Smerge_Noah_CCI_L4_RZSM0_40cm_V2.0_20180730.nc4\n",
      "Smerge_Noah_CCI_L4_RZSM0_40cm_V2.0_20180806.nc4\n",
      "Smerge_Noah_CCI_L4_RZSM0_40cm_V2.0_20180813.nc4\n",
      "Smerge_Noah_CCI_L4_RZSM0_40cm_V2.0_20180820.nc4\n",
      "Smerge_Noah_CCI_L4_RZSM0_40cm_V2.0_20180827.nc4\n",
      "Smerge_Noah_CCI_L4_RZSM0_40cm_V2.0_20180903.nc4\n",
      "Smerge_Noah_CCI_L4_RZSM0_40cm_V2.0_20180910.nc4\n",
      "Smerge_Noah_CCI_L4_RZSM0_40cm_V2.0_20180917.nc4\n",
      "Smerge_Noah_CCI_L4_RZSM0_40cm_V2.0_20180924.nc4\n",
      "Smerge_Noah_CCI_L4_RZSM0_40cm_V2.0_20181001.nc4\n",
      "Smerge_Noah_CCI_L4_RZSM0_40cm_V2.0_20181008.nc4\n",
      "Smerge_Noah_CCI_L4_RZSM0_40cm_V2.0_20181015.nc4\n",
      "Smerge_Noah_CCI_L4_RZSM0_40cm_V2.0_20181022.nc4\n",
      "Smerge_Noah_CCI_L4_RZSM0_40cm_V2.0_20181029.nc4\n",
      "Smerge_Noah_CCI_L4_RZSM0_40cm_V2.0_20190401.nc4\n",
      "Smerge_Noah_CCI_L4_RZSM0_40cm_V2.0_20190408.nc4\n",
      "Smerge_Noah_CCI_L4_RZSM0_40cm_V2.0_20190415.nc4\n",
      "Smerge_Noah_CCI_L4_RZSM0_40cm_V2.0_20190422.nc4\n",
      "Smerge_Noah_CCI_L4_RZSM0_40cm_V2.0_20190429.nc4\n",
      "Smerge_Noah_CCI_L4_RZSM0_40cm_V2.0_20190506.nc4\n"
     ]
    }
   ],
   "source": [
    "# Create a list of .hdf files in the input directory\n",
    "hdf_files = []\n",
    "for d in date:\n",
    "    g = 0\n",
    "    date_n = pd.to_datetime(d, format=\"%m/%d/%Y\")\n",
    "    date_n = date_n + pd.DateOffset(months=lag)\n",
    "    u_date_n = date_n + pd.DateOffset(days=offset)\n",
    "    l_date_n = date_n - pd.DateOffset(days=offset)\n",
    "    year = date_n.year\n",
    "    if d_f == 'A':\n",
    "        doy = date_n.timetuple().tm_yday\n",
    "        u_date_c = str(u_date_n.year) + str(u_date_n.timetuple().tm_yday).zfill(3)\n",
    "        l_date_c = str(l_date_n.year) + str(l_date_n.timetuple().tm_yday).zfill(3)\n",
    "    if d_f == 'B':\n",
    "        u_date_c = str(u_date_n.year)  + str(u_date_n.month).zfill(2) + str(u_date_n.day).zfill(2)\n",
    "        l_date_c = str(l_date_n.year)  + str(l_date_n.month).zfill(2) + str(l_date_n.day).zfill(2)\n",
    "    for file in os.listdir(input_dir):\n",
    "        if file.endswith(ftype):\n",
    "            file_p = file.split(sep)\n",
    "            file_p = file_p[d_pos]\n",
    "            file_p = file_p.split('.')\n",
    "            file_p = re.sub(\"\\D\", \"\", file_p[0])\n",
    "            date_p = pd.to_datetime(file_p, format=d_format)\n",
    "            if date_p.year == year and (int(l_date_c) <= int(file_p) and int(file_p) <= int(u_date_c)):\n",
    "                print(file)\n",
    "                hdf_files.append(os.path.join(input_dir, file))\n",
    "                g = 1\n",
    "                break;\n",
    "        if g == 1:\n",
    "            g = 0\n",
    "            break;"
   ]
  },
  {
   "cell_type": "code",
   "execution_count": 26,
   "metadata": {
    "id": "YYBQg_Ps391w",
    "scrolled": true
   },
   "outputs": [
    {
     "name": "stdout",
     "output_type": "stream",
     "text": [
      "E:\\share\\BIgRun\\Smerge_layer\\SMERGE_2016095.tif\n",
      "E:\\share\\BIgRun\\Smerge\\Smerge_Noah_CCI_L4_RZSM0_40cm_V2.0_20160404.nc4\n",
      "Process complete\n",
      "E:\\share\\BIgRun\\Smerge_layer\\SMERGE_2016102.tif\n",
      "E:\\share\\BIgRun\\Smerge\\Smerge_Noah_CCI_L4_RZSM0_40cm_V2.0_20160411.nc4\n",
      "Process complete\n",
      "E:\\share\\BIgRun\\Smerge_layer\\SMERGE_2016109.tif\n",
      "E:\\share\\BIgRun\\Smerge\\Smerge_Noah_CCI_L4_RZSM0_40cm_V2.0_20160418.nc4\n",
      "Process complete\n",
      "E:\\share\\BIgRun\\Smerge_layer\\SMERGE_2016116.tif\n",
      "E:\\share\\BIgRun\\Smerge\\Smerge_Noah_CCI_L4_RZSM0_40cm_V2.0_20160425.nc4\n",
      "Process complete\n",
      "E:\\share\\BIgRun\\Smerge_layer\\SMERGE_2016123.tif\n",
      "E:\\share\\BIgRun\\Smerge\\Smerge_Noah_CCI_L4_RZSM0_40cm_V2.0_20160502.nc4\n",
      "Process complete\n",
      "E:\\share\\BIgRun\\Smerge_layer\\SMERGE_2016130.tif\n",
      "E:\\share\\BIgRun\\Smerge\\Smerge_Noah_CCI_L4_RZSM0_40cm_V2.0_20160509.nc4\n",
      "Process complete\n",
      "E:\\share\\BIgRun\\Smerge_layer\\SMERGE_2016137.tif\n",
      "E:\\share\\BIgRun\\Smerge\\Smerge_Noah_CCI_L4_RZSM0_40cm_V2.0_20160516.nc4\n",
      "Process complete\n",
      "E:\\share\\BIgRun\\Smerge_layer\\SMERGE_2016144.tif\n",
      "E:\\share\\BIgRun\\Smerge\\Smerge_Noah_CCI_L4_RZSM0_40cm_V2.0_20160523.nc4\n",
      "Process complete\n",
      "E:\\share\\BIgRun\\Smerge_layer\\SMERGE_2016151.tif\n",
      "E:\\share\\BIgRun\\Smerge\\Smerge_Noah_CCI_L4_RZSM0_40cm_V2.0_20160530.nc4\n",
      "Process complete\n",
      "E:\\share\\BIgRun\\Smerge_layer\\SMERGE_2016158.tif\n",
      "E:\\share\\BIgRun\\Smerge\\Smerge_Noah_CCI_L4_RZSM0_40cm_V2.0_20160606.nc4\n",
      "Process complete\n",
      "E:\\share\\BIgRun\\Smerge_layer\\SMERGE_2016165.tif\n",
      "E:\\share\\BIgRun\\Smerge\\Smerge_Noah_CCI_L4_RZSM0_40cm_V2.0_20160613.nc4\n",
      "Process complete\n",
      "E:\\share\\BIgRun\\Smerge_layer\\SMERGE_2016172.tif\n",
      "E:\\share\\BIgRun\\Smerge\\Smerge_Noah_CCI_L4_RZSM0_40cm_V2.0_20160620.nc4\n",
      "Process complete\n",
      "E:\\share\\BIgRun\\Smerge_layer\\SMERGE_2016179.tif\n",
      "E:\\share\\BIgRun\\Smerge\\Smerge_Noah_CCI_L4_RZSM0_40cm_V2.0_20160627.nc4\n",
      "Process complete\n",
      "E:\\share\\BIgRun\\Smerge_layer\\SMERGE_2016186.tif\n",
      "E:\\share\\BIgRun\\Smerge\\Smerge_Noah_CCI_L4_RZSM0_40cm_V2.0_20160704.nc4\n",
      "Process complete\n",
      "E:\\share\\BIgRun\\Smerge_layer\\SMERGE_2016193.tif\n",
      "E:\\share\\BIgRun\\Smerge\\Smerge_Noah_CCI_L4_RZSM0_40cm_V2.0_20160711.nc4\n",
      "Process complete\n",
      "E:\\share\\BIgRun\\Smerge_layer\\SMERGE_2016200.tif\n",
      "E:\\share\\BIgRun\\Smerge\\Smerge_Noah_CCI_L4_RZSM0_40cm_V2.0_20160718.nc4\n",
      "Process complete\n",
      "E:\\share\\BIgRun\\Smerge_layer\\SMERGE_2016207.tif\n",
      "E:\\share\\BIgRun\\Smerge\\Smerge_Noah_CCI_L4_RZSM0_40cm_V2.0_20160725.nc4\n",
      "Process complete\n",
      "E:\\share\\BIgRun\\Smerge_layer\\SMERGE_2016214.tif\n",
      "E:\\share\\BIgRun\\Smerge\\Smerge_Noah_CCI_L4_RZSM0_40cm_V2.0_20160801.nc4\n",
      "Process complete\n",
      "E:\\share\\BIgRun\\Smerge_layer\\SMERGE_2016221.tif\n",
      "E:\\share\\BIgRun\\Smerge\\Smerge_Noah_CCI_L4_RZSM0_40cm_V2.0_20160808.nc4\n",
      "Process complete\n",
      "E:\\share\\BIgRun\\Smerge_layer\\SMERGE_2016228.tif\n",
      "E:\\share\\BIgRun\\Smerge\\Smerge_Noah_CCI_L4_RZSM0_40cm_V2.0_20160815.nc4\n",
      "Process complete\n",
      "E:\\share\\BIgRun\\Smerge_layer\\SMERGE_2016235.tif\n",
      "E:\\share\\BIgRun\\Smerge\\Smerge_Noah_CCI_L4_RZSM0_40cm_V2.0_20160822.nc4\n",
      "Process complete\n",
      "E:\\share\\BIgRun\\Smerge_layer\\SMERGE_2016242.tif\n",
      "E:\\share\\BIgRun\\Smerge\\Smerge_Noah_CCI_L4_RZSM0_40cm_V2.0_20160829.nc4\n",
      "Process complete\n",
      "E:\\share\\BIgRun\\Smerge_layer\\SMERGE_2016249.tif\n",
      "E:\\share\\BIgRun\\Smerge\\Smerge_Noah_CCI_L4_RZSM0_40cm_V2.0_20160905.nc4\n",
      "Process complete\n",
      "E:\\share\\BIgRun\\Smerge_layer\\SMERGE_2016256.tif\n",
      "E:\\share\\BIgRun\\Smerge\\Smerge_Noah_CCI_L4_RZSM0_40cm_V2.0_20160912.nc4\n",
      "Process complete\n",
      "E:\\share\\BIgRun\\Smerge_layer\\SMERGE_2016263.tif\n",
      "E:\\share\\BIgRun\\Smerge\\Smerge_Noah_CCI_L4_RZSM0_40cm_V2.0_20160919.nc4\n",
      "Process complete\n",
      "E:\\share\\BIgRun\\Smerge_layer\\SMERGE_2016270.tif\n",
      "E:\\share\\BIgRun\\Smerge\\Smerge_Noah_CCI_L4_RZSM0_40cm_V2.0_20160926.nc4\n",
      "Process complete\n",
      "E:\\share\\BIgRun\\Smerge_layer\\SMERGE_2016277.tif\n",
      "E:\\share\\BIgRun\\Smerge\\Smerge_Noah_CCI_L4_RZSM0_40cm_V2.0_20161003.nc4\n",
      "Process complete\n",
      "E:\\share\\BIgRun\\Smerge_layer\\SMERGE_2016284.tif\n",
      "E:\\share\\BIgRun\\Smerge\\Smerge_Noah_CCI_L4_RZSM0_40cm_V2.0_20161010.nc4\n",
      "Process complete\n",
      "E:\\share\\BIgRun\\Smerge_layer\\SMERGE_2016291.tif\n",
      "E:\\share\\BIgRun\\Smerge\\Smerge_Noah_CCI_L4_RZSM0_40cm_V2.0_20161017.nc4\n",
      "Process complete\n",
      "E:\\share\\BIgRun\\Smerge_layer\\SMERGE_2016298.tif\n",
      "E:\\share\\BIgRun\\Smerge\\Smerge_Noah_CCI_L4_RZSM0_40cm_V2.0_20161024.nc4\n",
      "Process complete\n",
      "E:\\share\\BIgRun\\Smerge_layer\\SMERGE_2016305.tif\n",
      "E:\\share\\BIgRun\\Smerge\\Smerge_Noah_CCI_L4_RZSM0_40cm_V2.0_20161031.nc4\n",
      "Process complete\n",
      "E:\\share\\BIgRun\\Smerge_layer\\SMERGE_2017093.tif\n",
      "E:\\share\\BIgRun\\Smerge\\Smerge_Noah_CCI_L4_RZSM0_40cm_V2.0_20170403.nc4\n",
      "Process complete\n",
      "E:\\share\\BIgRun\\Smerge_layer\\SMERGE_2017100.tif\n",
      "E:\\share\\BIgRun\\Smerge\\Smerge_Noah_CCI_L4_RZSM0_40cm_V2.0_20170410.nc4\n",
      "Process complete\n",
      "E:\\share\\BIgRun\\Smerge_layer\\SMERGE_2017107.tif\n",
      "E:\\share\\BIgRun\\Smerge\\Smerge_Noah_CCI_L4_RZSM0_40cm_V2.0_20170417.nc4\n",
      "Process complete\n",
      "E:\\share\\BIgRun\\Smerge_layer\\SMERGE_2017114.tif\n",
      "E:\\share\\BIgRun\\Smerge\\Smerge_Noah_CCI_L4_RZSM0_40cm_V2.0_20170424.nc4\n",
      "Process complete\n",
      "E:\\share\\BIgRun\\Smerge_layer\\SMERGE_2017121.tif\n",
      "E:\\share\\BIgRun\\Smerge\\Smerge_Noah_CCI_L4_RZSM0_40cm_V2.0_20170501.nc4\n",
      "Process complete\n",
      "E:\\share\\BIgRun\\Smerge_layer\\SMERGE_2017128.tif\n",
      "E:\\share\\BIgRun\\Smerge\\Smerge_Noah_CCI_L4_RZSM0_40cm_V2.0_20170508.nc4\n",
      "Process complete\n",
      "E:\\share\\BIgRun\\Smerge_layer\\SMERGE_2017135.tif\n",
      "E:\\share\\BIgRun\\Smerge\\Smerge_Noah_CCI_L4_RZSM0_40cm_V2.0_20170515.nc4\n",
      "Process complete\n",
      "E:\\share\\BIgRun\\Smerge_layer\\SMERGE_2017142.tif\n",
      "E:\\share\\BIgRun\\Smerge\\Smerge_Noah_CCI_L4_RZSM0_40cm_V2.0_20170522.nc4\n",
      "Process complete\n",
      "E:\\share\\BIgRun\\Smerge_layer\\SMERGE_2017149.tif\n",
      "E:\\share\\BIgRun\\Smerge\\Smerge_Noah_CCI_L4_RZSM0_40cm_V2.0_20170529.nc4\n",
      "Process complete\n",
      "E:\\share\\BIgRun\\Smerge_layer\\SMERGE_2017156.tif\n",
      "E:\\share\\BIgRun\\Smerge\\Smerge_Noah_CCI_L4_RZSM0_40cm_V2.0_20170605.nc4\n",
      "Process complete\n",
      "E:\\share\\BIgRun\\Smerge_layer\\SMERGE_2017163.tif\n",
      "E:\\share\\BIgRun\\Smerge\\Smerge_Noah_CCI_L4_RZSM0_40cm_V2.0_20170612.nc4\n",
      "Process complete\n",
      "E:\\share\\BIgRun\\Smerge_layer\\SMERGE_2017170.tif\n",
      "E:\\share\\BIgRun\\Smerge\\Smerge_Noah_CCI_L4_RZSM0_40cm_V2.0_20170619.nc4\n",
      "Process complete\n",
      "E:\\share\\BIgRun\\Smerge_layer\\SMERGE_2017177.tif\n",
      "E:\\share\\BIgRun\\Smerge\\Smerge_Noah_CCI_L4_RZSM0_40cm_V2.0_20170626.nc4\n",
      "Process complete\n",
      "E:\\share\\BIgRun\\Smerge_layer\\SMERGE_2017184.tif\n",
      "E:\\share\\BIgRun\\Smerge\\Smerge_Noah_CCI_L4_RZSM0_40cm_V2.0_20170703.nc4\n",
      "Process complete\n",
      "E:\\share\\BIgRun\\Smerge_layer\\SMERGE_2017191.tif\n",
      "E:\\share\\BIgRun\\Smerge\\Smerge_Noah_CCI_L4_RZSM0_40cm_V2.0_20170710.nc4\n",
      "Process complete\n",
      "E:\\share\\BIgRun\\Smerge_layer\\SMERGE_2017198.tif\n",
      "E:\\share\\BIgRun\\Smerge\\Smerge_Noah_CCI_L4_RZSM0_40cm_V2.0_20170717.nc4\n",
      "Process complete\n",
      "E:\\share\\BIgRun\\Smerge_layer\\SMERGE_2017205.tif\n",
      "E:\\share\\BIgRun\\Smerge\\Smerge_Noah_CCI_L4_RZSM0_40cm_V2.0_20170724.nc4\n",
      "Process complete\n",
      "E:\\share\\BIgRun\\Smerge_layer\\SMERGE_2017212.tif\n",
      "E:\\share\\BIgRun\\Smerge\\Smerge_Noah_CCI_L4_RZSM0_40cm_V2.0_20170731.nc4\n",
      "Process complete\n",
      "E:\\share\\BIgRun\\Smerge_layer\\SMERGE_2017219.tif\n",
      "E:\\share\\BIgRun\\Smerge\\Smerge_Noah_CCI_L4_RZSM0_40cm_V2.0_20170807.nc4\n",
      "Process complete\n",
      "E:\\share\\BIgRun\\Smerge_layer\\SMERGE_2017226.tif\n",
      "E:\\share\\BIgRun\\Smerge\\Smerge_Noah_CCI_L4_RZSM0_40cm_V2.0_20170814.nc4\n",
      "Process complete\n",
      "E:\\share\\BIgRun\\Smerge_layer\\SMERGE_2017233.tif\n",
      "E:\\share\\BIgRun\\Smerge\\Smerge_Noah_CCI_L4_RZSM0_40cm_V2.0_20170821.nc4\n",
      "Process complete\n",
      "E:\\share\\BIgRun\\Smerge_layer\\SMERGE_2017240.tif\n",
      "E:\\share\\BIgRun\\Smerge\\Smerge_Noah_CCI_L4_RZSM0_40cm_V2.0_20170828.nc4\n",
      "Process complete\n",
      "E:\\share\\BIgRun\\Smerge_layer\\SMERGE_2017247.tif\n",
      "E:\\share\\BIgRun\\Smerge\\Smerge_Noah_CCI_L4_RZSM0_40cm_V2.0_20170904.nc4\n",
      "Process complete\n",
      "E:\\share\\BIgRun\\Smerge_layer\\SMERGE_2017254.tif\n",
      "E:\\share\\BIgRun\\Smerge\\Smerge_Noah_CCI_L4_RZSM0_40cm_V2.0_20170911.nc4\n",
      "Process complete\n",
      "E:\\share\\BIgRun\\Smerge_layer\\SMERGE_2017261.tif\n",
      "E:\\share\\BIgRun\\Smerge\\Smerge_Noah_CCI_L4_RZSM0_40cm_V2.0_20170918.nc4\n",
      "Process complete\n",
      "E:\\share\\BIgRun\\Smerge_layer\\SMERGE_2017268.tif\n",
      "E:\\share\\BIgRun\\Smerge\\Smerge_Noah_CCI_L4_RZSM0_40cm_V2.0_20170925.nc4\n",
      "Process complete\n",
      "E:\\share\\BIgRun\\Smerge_layer\\SMERGE_2017275.tif\n",
      "E:\\share\\BIgRun\\Smerge\\Smerge_Noah_CCI_L4_RZSM0_40cm_V2.0_20171002.nc4\n",
      "Process complete\n",
      "E:\\share\\BIgRun\\Smerge_layer\\SMERGE_2017282.tif\n",
      "E:\\share\\BIgRun\\Smerge\\Smerge_Noah_CCI_L4_RZSM0_40cm_V2.0_20171009.nc4\n",
      "Process complete\n",
      "E:\\share\\BIgRun\\Smerge_layer\\SMERGE_2017289.tif\n",
      "E:\\share\\BIgRun\\Smerge\\Smerge_Noah_CCI_L4_RZSM0_40cm_V2.0_20171016.nc4\n",
      "Process complete\n",
      "E:\\share\\BIgRun\\Smerge_layer\\SMERGE_2017296.tif\n",
      "E:\\share\\BIgRun\\Smerge\\Smerge_Noah_CCI_L4_RZSM0_40cm_V2.0_20171023.nc4\n"
     ]
    },
    {
     "name": "stdout",
     "output_type": "stream",
     "text": [
      "Process complete\n",
      "E:\\share\\BIgRun\\Smerge_layer\\SMERGE_2017303.tif\n",
      "E:\\share\\BIgRun\\Smerge\\Smerge_Noah_CCI_L4_RZSM0_40cm_V2.0_20171030.nc4\n",
      "Process complete\n",
      "E:\\share\\BIgRun\\Smerge_layer\\SMERGE_2018092.tif\n",
      "E:\\share\\BIgRun\\Smerge\\Smerge_Noah_CCI_L4_RZSM0_40cm_V2.0_20180402.nc4\n",
      "Process complete\n",
      "E:\\share\\BIgRun\\Smerge_layer\\SMERGE_2018099.tif\n",
      "E:\\share\\BIgRun\\Smerge\\Smerge_Noah_CCI_L4_RZSM0_40cm_V2.0_20180409.nc4\n",
      "Process complete\n",
      "E:\\share\\BIgRun\\Smerge_layer\\SMERGE_2018106.tif\n",
      "E:\\share\\BIgRun\\Smerge\\Smerge_Noah_CCI_L4_RZSM0_40cm_V2.0_20180416.nc4\n",
      "Process complete\n",
      "E:\\share\\BIgRun\\Smerge_layer\\SMERGE_2018113.tif\n",
      "E:\\share\\BIgRun\\Smerge\\Smerge_Noah_CCI_L4_RZSM0_40cm_V2.0_20180423.nc4\n",
      "Process complete\n",
      "E:\\share\\BIgRun\\Smerge_layer\\SMERGE_2018120.tif\n",
      "E:\\share\\BIgRun\\Smerge\\Smerge_Noah_CCI_L4_RZSM0_40cm_V2.0_20180430.nc4\n",
      "Process complete\n",
      "E:\\share\\BIgRun\\Smerge_layer\\SMERGE_2018127.tif\n",
      "E:\\share\\BIgRun\\Smerge\\Smerge_Noah_CCI_L4_RZSM0_40cm_V2.0_20180507.nc4\n",
      "Process complete\n",
      "E:\\share\\BIgRun\\Smerge_layer\\SMERGE_2018134.tif\n",
      "E:\\share\\BIgRun\\Smerge\\Smerge_Noah_CCI_L4_RZSM0_40cm_V2.0_20180514.nc4\n",
      "Process complete\n",
      "E:\\share\\BIgRun\\Smerge_layer\\SMERGE_2018141.tif\n",
      "E:\\share\\BIgRun\\Smerge\\Smerge_Noah_CCI_L4_RZSM0_40cm_V2.0_20180521.nc4\n",
      "Process complete\n",
      "E:\\share\\BIgRun\\Smerge_layer\\SMERGE_2018148.tif\n",
      "E:\\share\\BIgRun\\Smerge\\Smerge_Noah_CCI_L4_RZSM0_40cm_V2.0_20180528.nc4\n",
      "Process complete\n",
      "E:\\share\\BIgRun\\Smerge_layer\\SMERGE_2018155.tif\n",
      "E:\\share\\BIgRun\\Smerge\\Smerge_Noah_CCI_L4_RZSM0_40cm_V2.0_20180604.nc4\n",
      "Process complete\n",
      "E:\\share\\BIgRun\\Smerge_layer\\SMERGE_2018162.tif\n",
      "E:\\share\\BIgRun\\Smerge\\Smerge_Noah_CCI_L4_RZSM0_40cm_V2.0_20180611.nc4\n",
      "Process complete\n",
      "E:\\share\\BIgRun\\Smerge_layer\\SMERGE_2018169.tif\n",
      "E:\\share\\BIgRun\\Smerge\\Smerge_Noah_CCI_L4_RZSM0_40cm_V2.0_20180618.nc4\n",
      "Process complete\n",
      "E:\\share\\BIgRun\\Smerge_layer\\SMERGE_2018176.tif\n",
      "E:\\share\\BIgRun\\Smerge\\Smerge_Noah_CCI_L4_RZSM0_40cm_V2.0_20180625.nc4\n",
      "Process complete\n",
      "E:\\share\\BIgRun\\Smerge_layer\\SMERGE_2018183.tif\n",
      "E:\\share\\BIgRun\\Smerge\\Smerge_Noah_CCI_L4_RZSM0_40cm_V2.0_20180702.nc4\n",
      "Process complete\n",
      "E:\\share\\BIgRun\\Smerge_layer\\SMERGE_2018190.tif\n",
      "E:\\share\\BIgRun\\Smerge\\Smerge_Noah_CCI_L4_RZSM0_40cm_V2.0_20180709.nc4\n",
      "Process complete\n",
      "E:\\share\\BIgRun\\Smerge_layer\\SMERGE_2018197.tif\n",
      "E:\\share\\BIgRun\\Smerge\\Smerge_Noah_CCI_L4_RZSM0_40cm_V2.0_20180716.nc4\n",
      "Process complete\n",
      "E:\\share\\BIgRun\\Smerge_layer\\SMERGE_2018204.tif\n",
      "E:\\share\\BIgRun\\Smerge\\Smerge_Noah_CCI_L4_RZSM0_40cm_V2.0_20180723.nc4\n",
      "Process complete\n",
      "E:\\share\\BIgRun\\Smerge_layer\\SMERGE_2018211.tif\n",
      "E:\\share\\BIgRun\\Smerge\\Smerge_Noah_CCI_L4_RZSM0_40cm_V2.0_20180730.nc4\n",
      "Process complete\n",
      "E:\\share\\BIgRun\\Smerge_layer\\SMERGE_2018218.tif\n",
      "E:\\share\\BIgRun\\Smerge\\Smerge_Noah_CCI_L4_RZSM0_40cm_V2.0_20180806.nc4\n",
      "Process complete\n",
      "E:\\share\\BIgRun\\Smerge_layer\\SMERGE_2018225.tif\n",
      "E:\\share\\BIgRun\\Smerge\\Smerge_Noah_CCI_L4_RZSM0_40cm_V2.0_20180813.nc4\n",
      "Process complete\n",
      "E:\\share\\BIgRun\\Smerge_layer\\SMERGE_2018232.tif\n",
      "E:\\share\\BIgRun\\Smerge\\Smerge_Noah_CCI_L4_RZSM0_40cm_V2.0_20180820.nc4\n",
      "Process complete\n",
      "E:\\share\\BIgRun\\Smerge_layer\\SMERGE_2018239.tif\n",
      "E:\\share\\BIgRun\\Smerge\\Smerge_Noah_CCI_L4_RZSM0_40cm_V2.0_20180827.nc4\n",
      "Process complete\n",
      "E:\\share\\BIgRun\\Smerge_layer\\SMERGE_2018246.tif\n",
      "E:\\share\\BIgRun\\Smerge\\Smerge_Noah_CCI_L4_RZSM0_40cm_V2.0_20180903.nc4\n",
      "Process complete\n",
      "E:\\share\\BIgRun\\Smerge_layer\\SMERGE_2018253.tif\n",
      "E:\\share\\BIgRun\\Smerge\\Smerge_Noah_CCI_L4_RZSM0_40cm_V2.0_20180910.nc4\n",
      "Process complete\n",
      "E:\\share\\BIgRun\\Smerge_layer\\SMERGE_2018260.tif\n",
      "E:\\share\\BIgRun\\Smerge\\Smerge_Noah_CCI_L4_RZSM0_40cm_V2.0_20180917.nc4\n",
      "Process complete\n",
      "E:\\share\\BIgRun\\Smerge_layer\\SMERGE_2018267.tif\n",
      "E:\\share\\BIgRun\\Smerge\\Smerge_Noah_CCI_L4_RZSM0_40cm_V2.0_20180924.nc4\n",
      "Process complete\n",
      "E:\\share\\BIgRun\\Smerge_layer\\SMERGE_2018274.tif\n",
      "E:\\share\\BIgRun\\Smerge\\Smerge_Noah_CCI_L4_RZSM0_40cm_V2.0_20181001.nc4\n",
      "Process complete\n",
      "E:\\share\\BIgRun\\Smerge_layer\\SMERGE_2018281.tif\n",
      "E:\\share\\BIgRun\\Smerge\\Smerge_Noah_CCI_L4_RZSM0_40cm_V2.0_20181008.nc4\n",
      "Process complete\n",
      "E:\\share\\BIgRun\\Smerge_layer\\SMERGE_2018288.tif\n",
      "E:\\share\\BIgRun\\Smerge\\Smerge_Noah_CCI_L4_RZSM0_40cm_V2.0_20181015.nc4\n",
      "Process complete\n",
      "E:\\share\\BIgRun\\Smerge_layer\\SMERGE_2018295.tif\n",
      "E:\\share\\BIgRun\\Smerge\\Smerge_Noah_CCI_L4_RZSM0_40cm_V2.0_20181022.nc4\n",
      "Process complete\n",
      "E:\\share\\BIgRun\\Smerge_layer\\SMERGE_2018302.tif\n",
      "E:\\share\\BIgRun\\Smerge\\Smerge_Noah_CCI_L4_RZSM0_40cm_V2.0_20181029.nc4\n",
      "Process complete\n",
      "E:\\share\\BIgRun\\Smerge_layer\\SMERGE_2019091.tif\n",
      "E:\\share\\BIgRun\\Smerge\\Smerge_Noah_CCI_L4_RZSM0_40cm_V2.0_20190401.nc4\n",
      "Process complete\n",
      "E:\\share\\BIgRun\\Smerge_layer\\SMERGE_2019098.tif\n",
      "E:\\share\\BIgRun\\Smerge\\Smerge_Noah_CCI_L4_RZSM0_40cm_V2.0_20190408.nc4\n",
      "Process complete\n",
      "E:\\share\\BIgRun\\Smerge_layer\\SMERGE_2019105.tif\n",
      "E:\\share\\BIgRun\\Smerge\\Smerge_Noah_CCI_L4_RZSM0_40cm_V2.0_20190415.nc4\n",
      "Process complete\n",
      "E:\\share\\BIgRun\\Smerge_layer\\SMERGE_2019112.tif\n",
      "E:\\share\\BIgRun\\Smerge\\Smerge_Noah_CCI_L4_RZSM0_40cm_V2.0_20190422.nc4\n",
      "Process complete\n",
      "E:\\share\\BIgRun\\Smerge_layer\\SMERGE_2019119.tif\n",
      "E:\\share\\BIgRun\\Smerge\\Smerge_Noah_CCI_L4_RZSM0_40cm_V2.0_20190429.nc4\n",
      "Process complete\n",
      "E:\\share\\BIgRun\\Smerge_layer\\SMERGE_2019126.tif\n",
      "E:\\share\\BIgRun\\Smerge\\Smerge_Noah_CCI_L4_RZSM0_40cm_V2.0_20190506.nc4\n",
      "Process complete\n"
     ]
    }
   ],
   "source": [
    "i = 0\n",
    "# Iterate through the list of .hdf files and perform the subset\n",
    "for hdf_file in hdf_files:\n",
    "    #converts the date format in to YYYYmmdd\n",
    "    date_in = pd.to_datetime(date[i], format=\"%m/%d/%Y\")\n",
    "    #Adds Monthlyy lag\n",
    "    date_in = date_in + pd.DateOffset(months=lag)\n",
    "    doy_in = date_in.timetuple().tm_yday\n",
    "    #joins the locat and file name\n",
    "    output_file = os.path.join(output_dir, product + '_'+str(date_in.year)+str(doy_in).zfill(3)+'.tif')\n",
    "    if str(yer) in hdf_file:\n",
    "        print(output_file)\n",
    "        print(hdf_file)\n",
    "        # Perform the subset\n",
    "        arcpy.SubsetMultidimensionalRaster_md(hdf_file,output_file, layer_name)\n",
    "    i = i + 1\n",
    "\n",
    "    print(\"Process complete\")"
   ]
  },
  {
   "cell_type": "code",
   "execution_count": 15,
   "metadata": {
    "scrolled": true
   },
   "outputs": [
    {
     "name": "stdout",
     "output_type": "stream",
     "text": [
      "04/01/2019\n",
      "E:\\share\\BIgRun\\Albedo_layer\\ALB_201991.tif\n",
      "E:\\share\\BIgRun\\Albedo_Merged\\MCD43A3_A2019294.crf\n",
      "04/08/2019\n",
      "E:\\share\\BIgRun\\Albedo_layer\\ALB_201998.tif\n",
      "E:\\share\\BIgRun\\Albedo_Merged\\MCD43A3_A2019301.crf\n"
     ]
    }
   ],
   "source": [
    "i = 0\n",
    "for hdf_file in hdf_files:\n",
    "    #converts the date format in to YYYYmmdd\n",
    "    date_in = pd.to_datetime(date[i], format=\"%m/%d/%Y\")\n",
    "    doy_in = date_in.timetuple().tm_yday\n",
    "    #joins the locat and file name\n",
    "    output_file = os.path.join(output_dir, product + '_'+str(date_in.year)+str(doy_in)+'.tif')\n",
    "    if str(yer) in str(date[i]):\n",
    "        print(date[i])\n",
    "        print(output_file)\n",
    "        print(hdf_file)\n",
    "    i = i + 1"
   ]
  },
  {
   "cell_type": "code",
   "execution_count": 27,
   "metadata": {},
   "outputs": [
    {
     "data": {
      "text/plain": [
       "99"
      ]
     },
     "execution_count": 27,
     "metadata": {},
     "output_type": "execute_result"
    }
   ],
   "source": [
    "len(hdf_files)"
   ]
  },
  {
   "cell_type": "code",
   "execution_count": null,
   "metadata": {},
   "outputs": [],
   "source": []
  }
 ],
 "metadata": {
  "colab": {
   "provenance": []
  },
  "kernelspec": {
   "display_name": "Python 3 (ipykernel)",
   "language": "python",
   "name": "python3"
  },
  "language_info": {
   "codemirror_mode": {
    "name": "ipython",
    "version": 3
   },
   "file_extension": ".py",
   "mimetype": "text/x-python",
   "name": "python",
   "nbconvert_exporter": "python",
   "pygments_lexer": "ipython3",
   "version": "3.9.16"
  }
 },
 "nbformat": 4,
 "nbformat_minor": 1
}
