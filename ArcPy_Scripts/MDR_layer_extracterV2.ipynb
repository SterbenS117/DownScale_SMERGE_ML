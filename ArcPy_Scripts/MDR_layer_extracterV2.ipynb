{
  "nbformat": 4,
  "nbformat_minor": 0,
  "metadata": {
    "colab": {
      "provenance": []
    },
    "kernelspec": {
      "name": "python3",
      "display_name": "Python 3"
    },
    "language_info": {
      "name": "python"
    }
  },
  "cells": [
    {
      "cell_type": "code",
      "execution_count": null,
      "metadata": {
        "id": "NYsvHBJh1MJK"
      },
      "outputs": [],
      "source": [
        "import arcpy\n",
        "import os\n",
        "import pandas as pd\n",
        "import re"
      ]
    },
    {
      "cell_type": "code",
      "source": [
        "arcpy.env.overwriteoutput = True"
      ],
      "metadata": {
        "id": "7tiinpOY1bsJ"
      },
      "execution_count": null,
      "outputs": []
    },
    {
      "cell_type": "code",
      "source": [
        "# Set data product name\n",
        "product = input(\"Enter the name of the data product: \")"
      ],
      "metadata": {
        "id": "EtzXzC7G1byw"
      },
      "execution_count": null,
      "outputs": []
    },
    {
      "cell_type": "code",
      "source": [
        "# Set the input directory\n",
        "input_dir = input(\"Enter the input directory: \")"
      ],
      "metadata": {
        "id": "UGSLIr-81b47"
      },
      "execution_count": null,
      "outputs": []
    },
    {
      "cell_type": "code",
      "source": [
        "# Set the output directory\n",
        "output_dir = input(\"Enter the output directory: \")"
      ],
      "metadata": {
        "id": "JGqb0IUm2SMr"
      },
      "execution_count": null,
      "outputs": []
    },
    {
      "cell_type": "code",
      "source": [
        "# Set the layer name\n",
        "layer_name = input(\"Enter the layer name to be extracted\")"
      ],
      "metadata": {
        "id": "LzRO2ZkP2SQF"
      },
      "execution_count": null,
      "outputs": []
    },
    {
      "cell_type": "code",
      "source": [
        "# Read list of dates\n",
        "text_file = open(\"dates.txt\", \"r\")\n",
        "\n",
        "while not os.path.exists(text_file):\n",
        "    print('The date list txt was not found, should be in the same directory as the .py script')\n",
        "    co = input(\"Press enter to try again\")\n",
        "date = text_file.read().split(',')\n",
        "\n",
        "offset = input('Enter the date offset, if there is none enter 0')\n",
        "try:\n",
        "    offset = int(offset)\n",
        "except:\n",
        "    while offset.isnumeric():\n",
        "        offset = input('Offset given was not an integer value, please try again')"
      ],
      "metadata": {
        "id": "RMGsmG-62ST_"
      },
      "execution_count": null,
      "outputs": []
    },
    {
      "cell_type": "code",
      "source": [
        "# Create a list of .hdf files in the input directory\n",
        "hdf_files = []\n",
        "for d in date:\n",
        "    g = 0\n",
        "    date_n = pd.to_datetime(d, format=\"%m/%d/%Y\")\n",
        "    date_n = date_n + pd.DateOffset(months=1)\n",
        "    year = date_n.year\n",
        "    month = date_n.month\n",
        "    day = date_n.day\n",
        "    doy = date_n.timetuple().tm_yday\n",
        "    #print(str(year) + str(doy))\n",
        "    date_c = str(year) + str(doy)\n",
        "    #date_c = str(year) + str(doy).zfill(2)\n",
        "    print(date_c)\n",
        "    for file in os.listdir(input_dir):\n",
        "        if file.endswith(\".hdf\"):\n",
        "            file_p = file.split('.')\n",
        "            #print(file_p[1])\n",
        "            file_p = re.sub(\"\\D\", \"\", file_p[1])\n",
        "            date_p = pd.to_datetime(file_p, format=\"%Y%j\")\n",
        "            if date_p.year == year and (int(date_c)-offset <= int(file_p) and int(file_p) <= int(date_c)+offset):\n",
        "                #print(file)\n",
        "                hdf_files.append(os.path.join(input_dir, file))\n",
        "                g = 1\n",
        "                break;\n",
        "        if g == 1:\n",
        "            g = 0\n",
        "            break;\n",
        "i = 0"
      ],
      "metadata": {
        "id": "2nfAYWzM39u7"
      },
      "execution_count": null,
      "outputs": []
    },
    {
      "cell_type": "code",
      "source": [
        "# Iterate through the list of .hdf files and perform the subset\n",
        "for hdf_file in hdf_files:\n",
        "    #converts the date format in to YYYYmmdd\n",
        "    date_in = pd.to_datetime(date[i], format=\"%m/%d/%Y\")\n",
        "    doy_in = date_in.timetuple().tm_yday\n",
        "    #joins the locat and file name\n",
        "    output_file = os.path.join(output_dir, product + '_'+str(date_in.year)+str(doy_in)+'.tif')\n",
        "    print(hdf_file)\n",
        "    # Perform the subset\n",
        "    arcpy.SubsetMultidimensionalRaster_md(hdf_file,output_file, layer_name)\n",
        "    i = i + 1\n",
        "\n",
        "    print(\"Process complete\")"
      ],
      "metadata": {
        "id": "YYBQg_Ps391w"
      },
      "execution_count": null,
      "outputs": []
    }
  ]
}
