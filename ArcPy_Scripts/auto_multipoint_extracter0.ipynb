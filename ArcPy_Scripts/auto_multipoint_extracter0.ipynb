{
 "cells": [
  {
   "cell_type": "code",
   "execution_count": 1,
   "metadata": {
    "id": "GAVnBMYj-fq0"
   },
   "outputs": [],
   "source": [
    "import arcpy\n",
    "from arcpy import env\n",
    "import re\n",
    "import pandas as pd\n",
    "from arcpy.sa import *\n",
    "import os"
   ]
  },
  {
   "cell_type": "code",
   "execution_count": 2,
   "metadata": {
    "id": "eAH0v1ZaI_Hy"
   },
   "outputs": [],
   "source": [
    "def raster_points(input_raster, output_raster, shp_file):\n",
    "    # Read the input and check rasters\n",
    "    in_raster = Raster(input_raster)\n",
    "    ExtractMultiValuesToPoints(shp_file, [[in_raster, output_raster]], 'NONE')\n",
    "    #arcpy.sa.ExtractValuesToPoints(thirty_points, in_raster, thirty_points, 'NONE')"
   ]
  },
  {
   "cell_type": "code",
   "execution_count": 3,
   "metadata": {
    "id": "g6l8OLk6-15M"
   },
   "outputs": [],
   "source": [
    "# Define the parent folder and the geodatabase name\n",
    "parent_folder = os.getcwd()\n",
    "geodatabase_name = \"example.gdb\""
   ]
  },
  {
   "cell_type": "code",
   "execution_count": 4,
   "metadata": {
    "id": "4eW-z5_q-1-T"
   },
   "outputs": [
    {
     "name": "stdout",
     "output_type": "stream",
     "text": [
      "C:\\Users\\asanchez2415\\Documents\\example.gdb\n"
     ]
    }
   ],
   "source": [
    "# Create the file geodatabase\n",
    "geodatabase_path = os.path.join(parent_folder, geodatabase_name)\n",
    "if os.path.exists(geodatabase_path):\n",
    "    print(geodatabase_path)\n",
    "else:\n",
    "    arcpy.CreateFileGDB_management(parent_folder, geodatabase_name)"
   ]
  },
  {
   "cell_type": "code",
   "execution_count": 5,
   "metadata": {
    "id": "jms9Nvmn-2D8"
   },
   "outputs": [],
   "source": [
    "# Set the geodatabase as the workspace\n",
    "arcpy.env.workspace = geodatabase_path"
   ]
  },
  {
   "cell_type": "code",
   "execution_count": 6,
   "metadata": {
    "id": "rjp02L8M-2Jz"
   },
   "outputs": [],
   "source": [
    "# Set up the environment\n",
    "arcpy.env.parallelProcessingFactor = 0\n",
    "arcpy.CheckOutExtension(\"Spatial\")\n",
    "arcpy.env.matchMultidimensionalVariable = False\n",
    "arcpy.env.overwriteOutput = True"
   ]
  },
  {
   "cell_type": "code",
   "execution_count": 7,
   "metadata": {
    "id": "zQ8dMOSx-2O4"
   },
   "outputs": [
    {
     "name": "stdout",
     "output_type": "stream",
     "text": [
      "Enter the name of the data product: MODIS\n"
     ]
    }
   ],
   "source": [
    "# Set data product name\n",
    "product = input(\"Enter the name of the data product: \")"
   ]
  },
  {
   "cell_type": "code",
   "execution_count": 8,
   "metadata": {
    "id": "0s0vnZZmCJEy"
   },
   "outputs": [
    {
     "name": "stdout",
     "output_type": "stream",
     "text": [
      "Enter the input directory: E:\\share\\MODIS_CONUS_NDVI\\Bands\n"
     ]
    }
   ],
   "source": [
    "# Set the input directory\n",
    "input_dir = input(\"Enter the input directory: \")"
   ]
  },
  {
   "cell_type": "code",
   "execution_count": 9,
   "metadata": {
    "id": "uGgvMHw5EF-E"
   },
   "outputs": [
    {
     "name": "stdout",
     "output_type": "stream",
     "text": [
      "Enter the full file path and name of the grid shape file: E:\\share\\BIgRun\\Grids\\Grid_30.shp\n"
     ]
    }
   ],
   "source": [
    "grid_shape_file = input(\"Enter the full file path and name of the grid shape file: \")\n",
    "\n",
    "while not os.path.exists(grid_shape_file):\n",
    "    print('The shapefile was not found')\n",
    "    co = input(\"Please try again: \")"
   ]
  },
  {
   "cell_type": "code",
   "execution_count": 29,
   "metadata": {
    "id": "2o9dQ9TeEyru",
    "scrolled": false
   },
   "outputs": [
    {
     "name": "stdout",
     "output_type": "stream",
     "text": [
      "Enter the full file path of the template point shape file: E:\\share\\BIgRun\\Points\n",
      "Enter the name of the template point shape file: Grid_30_Points.shp\n",
      "Enter the name of the point shape file, you want to use: MODIS_Grid_30_Points2.shp\n",
      "Enter Y if you are adding to an existing point shape file, if you are creating/overwrite a new point file enter NN\n",
      "MODIS_Grid_30_Points2.shp\n",
      "C:\\Users\\asanchez2415\\Documents\\example.gdb\\MODIS_Grid_30_Points2.shp\n"
     ]
    }
   ],
   "source": [
    "temp_point_shape_path = input(\"Enter the full file path of the template point shape file: \")\n",
    "temp_point_shape_name = input(\"Enter the name of the template point shape file: \")\n",
    "temp_point_shape_file = os.path.join(temp_point_shape_path, temp_point_shape_name)\n",
    "point_shape_name = input('Enter the name of the point shape file, you want to use: ')\n",
    "point_check = input(\"Enter Y if you are adding to an existing point shape file, if you are creating/overwrite a new point file enter N\")\n",
    "\n",
    "print(point_shape_name)\n",
    "# while not point_check != 'Y' and point_check != 'N':\n",
    "#     point_shape_file = input(\"Please try again: \")\n",
    "\n",
    "\n",
    "# if point_check == 'Y':\n",
    "#     while not os.path.isfile(point_shape_file):\n",
    "#         print('The shapefile was not found, should be in the same directory as the .py script')\n",
    "#         point_shape_file = input(\"Please try again: \")\n",
    "\n",
    "thirty_points = temp_point_shape_file\n",
    "gb_thirty_points = os.path.join(geodatabase_path, point_shape_name)\n",
    "print(gb_thirty_points)\n",
    "if point_check == 'N':\n",
    "    arcpy.conversion.FeatureClassToFeatureClass(thirty_points,geodatabase_path,point_shape_name)"
   ]
  },
  {
   "cell_type": "code",
   "execution_count": 34,
   "metadata": {},
   "outputs": [
    {
     "name": "stdout",
     "output_type": "stream",
     "text": [
      "Enter the number monthly lag: 1\n",
      "Enter the day offset: 4\n",
      "If you need to start on a different date enter it's index, if not enter 1: 38\n"
     ]
    }
   ],
   "source": [
    "# Read list of dates\n",
    "text_file = open(\"dates.txt\", \"r\")\n",
    "\n",
    "while not os.path.exists(\"dates.txt\"):\n",
    "    print('The date list txt was not found, should be in the same directory as the .py script')\n",
    "    n = input(\"Press enter to try again\")\n",
    "    text_file = open(\"dates.txt\", \"r\")\n",
    "date = text_file.read().split(',')\n",
    "lag = input(\"Enter the number monthly lag: \")\n",
    "lag = int(lag)\n",
    "offset = input('Enter the day offset: ')\n",
    "offset = int(offset)\n",
    "start = input(\"If you need to start on a different date enter it's index, if not enter 1: \")\n",
    "start = int(start) - 1\n",
    "date = date[start:]"
   ]
  },
  {
   "cell_type": "code",
   "execution_count": 24,
   "metadata": {},
   "outputs": [
    {
     "name": "stdout",
     "output_type": "stream",
     "text": [
      "Enter file extention: .tif\n",
      "Enter filename seperator: _\n",
      "Enter postion of the date with in the filenames, starting at index 0, example ALB_2000123 postion is 1:10\n",
      "Enter the year you wish to process: to process all leave blank and press enter: \n",
      "If file use \"%Y%j\" type A, if \"%Y%m%y\" type B: A\n"
     ]
    }
   ],
   "source": [
    "# File type\n",
    "ftype = input(\"Enter file extention: \")\n",
    "# Filename seperator\n",
    "sep = input(\"Enter filename seperator: \")\n",
    "#Date postiton\n",
    "d_pos = input('Enter postion of the date with in the filenames, starting at index 0, example ALB_2000123 postion is 1:')\n",
    "d_pos = int(d_pos)\n",
    "# Year batch\n",
    "yer = input(\"Enter the year you wish to process: to process all leave blank and press enter: \")\n",
    "# Date Formating\n",
    "d_f = input('If file use \"%Y%j\" type A, if \"%Y%m%y\" type B: ')\n",
    "while d_f != 'A' and d_f != 'B':\n",
    "    d = input('Input ERROR, If file use \"%Y%j\" type A, if \"%Y%m%y\" type B: ')\n",
    "if d_f == 'A':\n",
    "    d_format = '%Y%j'\n",
    "if d_f == 'B':\n",
    "    d_format = '%Y%m%d'"
   ]
  },
  {
   "cell_type": "code",
   "execution_count": 35,
   "metadata": {
    "id": "5z8PbjwIFion",
    "scrolled": true
   },
   "outputs": [
    {
     "name": "stdout",
     "output_type": "stream",
     "text": [
      "2017164\n",
      "MODIS_037 2017-06-15 00:00:00\n",
      "2017171\n",
      "MODIS_038 2017-06-22 00:00:00\n",
      "2017178\n",
      "MODIS_039 2017-06-29 00:00:00\n",
      "2017185\n",
      "MODIS_040 2017-07-05 00:00:00\n",
      "2017192\n",
      "MODIS_041 2017-07-12 00:00:00\n",
      "2017199\n",
      "MODIS_042 2017-07-19 00:00:00\n",
      "2017206\n",
      "MODIS_043 2017-07-26 00:00:00\n",
      "2017213\n",
      "MODIS_044 2017-08-03 00:00:00\n",
      "2017220\n",
      "MODIS_045 2017-08-10 00:00:00\n",
      "2017227\n",
      "MODIS_046 2017-08-17 00:00:00\n",
      "2017234\n",
      "MODIS_047 2017-08-24 00:00:00\n",
      "2017241\n",
      "MODIS_048 2017-08-31 00:00:00\n",
      "2017248\n",
      "MODIS_049 2017-09-07 00:00:00\n",
      "2017255\n",
      "MODIS_050 2017-09-14 00:00:00\n",
      "2017262\n",
      "MODIS_051 2017-09-21 00:00:00\n",
      "2017269\n",
      "MODIS_052 2017-09-28 00:00:00\n",
      "2017276\n",
      "MODIS_053 2017-10-04 00:00:00\n",
      "2017283\n",
      "MODIS_054 2017-10-11 00:00:00\n",
      "2017290\n",
      "MODIS_055 2017-10-18 00:00:00\n",
      "2017297\n",
      "MODIS_056 2017-10-25 00:00:00\n",
      "2017304\n",
      "MODIS_057 2017-11-02 00:00:00\n",
      "2017311\n",
      "MODIS_058 2017-11-09 00:00:00\n",
      "2017318\n",
      "MODIS_059 2017-11-16 00:00:00\n",
      "2017325\n",
      "MODIS_060 2017-11-23 00:00:00\n",
      "2017332\n",
      "MODIS_061 2017-11-30 00:00:00\n",
      "2018121\n",
      "MODIS_062 2018-05-02 00:00:00\n",
      "2018128\n",
      "MODIS_063 2018-05-09 00:00:00\n",
      "2018135\n",
      "MODIS_064 2018-05-16 00:00:00\n",
      "2018142\n",
      "MODIS_065 2018-05-23 00:00:00\n",
      "2018149\n",
      "MODIS_066 2018-05-30 00:00:00\n",
      "2018156\n",
      "MODIS_067 2018-06-07 00:00:00\n",
      "2018163\n",
      "MODIS_068 2018-06-14 00:00:00\n",
      "2018170\n",
      "MODIS_069 2018-06-21 00:00:00\n",
      "2018177\n",
      "MODIS_070 2018-06-28 00:00:00\n",
      "2018184\n",
      "MODIS_071 2018-07-04 00:00:00\n",
      "2018191\n",
      "MODIS_072 2018-07-11 00:00:00\n",
      "2018198\n",
      "MODIS_073 2018-07-18 00:00:00\n",
      "2018205\n",
      "MODIS_074 2018-07-25 00:00:00\n",
      "2018212\n",
      "MODIS_075 2018-08-02 00:00:00\n",
      "2018219\n",
      "MODIS_076 2018-08-09 00:00:00\n",
      "2018226\n",
      "MODIS_077 2018-08-16 00:00:00\n",
      "2018233\n",
      "MODIS_078 2018-08-23 00:00:00\n",
      "2018240\n",
      "MODIS_079 2018-08-30 00:00:00\n",
      "2018247\n",
      "MODIS_080 2018-09-06 00:00:00\n",
      "2018254\n",
      "MODIS_081 2018-09-13 00:00:00\n",
      "2018261\n",
      "MODIS_082 2018-09-20 00:00:00\n",
      "2018268\n",
      "MODIS_083 2018-09-27 00:00:00\n",
      "2018275\n",
      "MODIS_084 2018-10-03 00:00:00\n",
      "2018282\n",
      "MODIS_085 2018-10-10 00:00:00\n",
      "2018289\n",
      "MODIS_086 2018-10-17 00:00:00\n",
      "2018296\n",
      "MODIS_087 2018-10-24 00:00:00\n",
      "2018303\n",
      "MODIS_088 2018-11-01 00:00:00\n",
      "2018310\n",
      "MODIS_089 2018-11-08 00:00:00\n",
      "2018317\n",
      "MODIS_090 2018-11-15 00:00:00\n",
      "2018324\n",
      "MODIS_091 2018-11-22 00:00:00\n",
      "2018331\n",
      "MODIS_092 2018-11-29 00:00:00\n",
      "2019120\n",
      "MODIS_093 2019-05-01 00:00:00\n",
      "2019127\n",
      "MODIS_094 2019-05-08 00:00:00\n",
      "2019134\n",
      "MODIS_095 2019-05-15 00:00:00\n",
      "2019141\n",
      "MODIS_096 2019-05-22 00:00:00\n",
      "2019148\n",
      "MODIS_097 2019-05-29 00:00:00\n",
      "2019155\n",
      "MODIS_098 2019-06-06 00:00:00\n",
      "2019162\n",
      "MODIS_099 2019-06-13 00:00:00\n",
      "2019169\n",
      "MODIS_100 2019-06-20 00:00:00\n",
      "2019176\n",
      "MODIS_101 2019-06-27 00:00:00\n",
      "2019183\n",
      "MODIS_102 2019-07-03 00:00:00\n",
      "2019190\n",
      "MODIS_103 2019-07-10 00:00:00\n",
      "2019197\n",
      "MODIS_104 2019-07-17 00:00:00\n",
      "2019204\n",
      "MODIS_105 2019-07-24 00:00:00\n",
      "2019211\n",
      "MODIS_106 2019-08-01 00:00:00\n",
      "2019218\n",
      "MODIS_107 2019-08-08 00:00:00\n",
      "2019225\n",
      "MODIS_108 2019-08-15 00:00:00\n",
      "2019232\n",
      "MODIS_109 2019-08-22 00:00:00\n",
      "2019239\n",
      "MODIS_110 2019-08-29 00:00:00\n",
      "2019246\n",
      "MODIS_111 2019-09-05 00:00:00\n",
      "2019253\n",
      "MODIS_112 2019-09-12 00:00:00\n",
      "2019260\n",
      "MODIS_113 2019-09-19 00:00:00\n",
      "2019267\n",
      "MODIS_114 2019-09-26 00:00:00\n",
      "2019274\n",
      "MODIS_115 2019-10-02 00:00:00\n",
      "2019281\n",
      "MODIS_116 2019-10-09 00:00:00\n",
      "2019288\n",
      "MODIS_117 2019-10-16 00:00:00\n",
      "2019295\n",
      "MODIS_118 2019-10-23 00:00:00\n",
      "2019302\n",
      "MODIS_119 2019-10-30 00:00:00\n",
      "2019309\n",
      "MODIS_120 2019-11-07 00:00:00\n",
      "2019316\n",
      "MODIS_121 2019-11-14 00:00:00\n",
      "2019323\n",
      "MODIS_122 2019-11-21 00:00:00\n",
      "2019330\n",
      "MODIS_123 2019-11-28 00:00:00\n"
     ]
    }
   ],
   "source": [
    "fdir = os.listdir(input_dir)\n",
    "ref_dir = []\n",
    "for fd in fdir:\n",
    "    if fd.endswith(ftype):\n",
    "        ref_dir.append(fd)\n",
    "i = start\n",
    "for d in date:\n",
    "    j = False\n",
    "    date_n = pd.to_datetime(d, format=\"%m/%d/%Y\") + pd.DateOffset(months=lag)\n",
    "    year = date_n.year\n",
    "    u_date_n = date_n + pd.DateOffset(days=offset)\n",
    "    l_date_n = date_n - pd.DateOffset(days=offset)\n",
    "    for f in ref_dir:\n",
    "        if j == True:\n",
    "            break\n",
    "        file_p = f.split(sep)\n",
    "        file_p = re.sub(\"\\D\", \"\", file_p[d_pos])\n",
    "        date_p = pd.to_datetime(file_p, format=d_format)\n",
    "        if d_f == 'A':\n",
    "            doy = date_n.timetuple().tm_yday\n",
    "            u_date_c = str(u_date_n.year) + str(u_date_n.timetuple().tm_yday).zfill(3)\n",
    "            l_date_c = str(l_date_n.year) + str(l_date_n.timetuple().tm_yday).zfill(3)\n",
    "        if d_f == 'B':\n",
    "            u_date_c = str(u_date_n.year)  + str(u_date_n.month).zfill(2) + str(u_date_n.day).zfill(2)\n",
    "            l_date_c = str(l_date_n.year)  + str(l_date_n.month).zfill(2) + str(l_date_n.day).zfill(2)\n",
    "        if date_p.year == year and (int(l_date_c) <= int(file_p) and int(file_p) <= int(u_date_c)):\n",
    "            input_raster = os.path.join(input_dir, f)\n",
    "            #Has to by date index number, because the arcpy multiopoint function has a name lenght limit\n",
    "            data_name = product+\"_\"+ str(i).zfill(3)\n",
    "            print(file_p)\n",
    "            print(data_name + \" \" + str(date_n))\n",
    "            output_raster = data_name\n",
    "            raster_points(input_raster, output_raster, gb_thirty_points)\n",
    "            j = True\n",
    "    i = i + 1"
   ]
  },
  {
   "cell_type": "code",
   "execution_count": 46,
   "metadata": {},
   "outputs": [
    {
     "data": {
      "text/plain": [
       "'C__Users_asanchez2415_Documents_example_gdb_LAI_Grid_30_Points_shp'"
      ]
     },
     "execution_count": 46,
     "metadata": {},
     "output_type": "execute_result"
    }
   ],
   "source": [
    "arcpy.ValidateTableName(gb_thirty_points)"
   ]
  },
  {
   "cell_type": "code",
   "execution_count": 109,
   "metadata": {},
   "outputs": [
    {
     "data": {
      "text/plain": [
       "100"
      ]
     },
     "execution_count": 109,
     "metadata": {},
     "output_type": "execute_result"
    }
   ],
   "source": [
    "len(os.listdir(input_dir))"
   ]
  },
  {
   "cell_type": "code",
   "execution_count": 21,
   "metadata": {},
   "outputs": [
    {
     "name": "stdout",
     "output_type": "stream",
     "text": [
      ".img\n"
     ]
    }
   ],
   "source": [
    "print(ftype)"
   ]
  },
  {
   "cell_type": "code",
   "execution_count": null,
   "metadata": {},
   "outputs": [],
   "source": []
  }
 ],
 "metadata": {
  "colab": {
   "provenance": []
  },
  "kernelspec": {
   "display_name": "Python 3 (ipykernel)",
   "language": "python",
   "name": "python3"
  },
  "language_info": {
   "codemirror_mode": {
    "name": "ipython",
    "version": 3
   },
   "file_extension": ".py",
   "mimetype": "text/x-python",
   "name": "python",
   "nbconvert_exporter": "python",
   "pygments_lexer": "ipython3",
   "version": "3.9.16"
  }
 },
 "nbformat": 4,
 "nbformat_minor": 1
}
