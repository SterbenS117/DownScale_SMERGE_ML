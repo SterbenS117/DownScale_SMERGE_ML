{
  "nbformat": 4,
  "nbformat_minor": 0,
  "metadata": {
    "colab": {
      "provenance": []
    },
    "kernelspec": {
      "name": "python3",
      "display_name": "Python 3"
    },
    "language_info": {
      "name": "python"
    }
  },
  "cells": [
    {
      "cell_type": "code",
      "execution_count": null,
      "metadata": {
        "id": "4PjADYE56DgZ"
      },
      "outputs": [],
      "source": [
        "import arcpy\n",
        "import os"
      ]
    },
    {
      "cell_type": "code",
      "source": [
        "arcpy.env.overwriteoutput = True"
      ],
      "metadata": {
        "id": "5Oc4ZppC6H-h"
      },
      "execution_count": null,
      "outputs": []
    },
    {
      "cell_type": "code",
      "source": [
        "# Set the input directory\n",
        "input_dir = input(\"Enter the input directory: \")"
      ],
      "metadata": {
        "id": "FVjYFVNF6IDq"
      },
      "execution_count": null,
      "outputs": []
    },
    {
      "cell_type": "code",
      "source": [
        "# Set the output directory\n",
        "output_dir = input(\"Enter the output directory: \")"
      ],
      "metadata": {
        "id": "Xlg9WLsy6IIb"
      },
      "execution_count": null,
      "outputs": []
    },
    {
      "cell_type": "code",
      "source": [
        "# Set the layer name\n",
        "layer_name = input(\"Enter the layer name to be extracted\")"
      ],
      "metadata": {
        "id": "zajpYM6n76Ux"
      },
      "execution_count": null,
      "outputs": []
    },
    {
      "cell_type": "code",
      "source": [
        "# Create a list of .hdf files in the input directory\n",
        "hdf_files = []\n",
        "for file in os.listdir(input_dir):\n",
        "    if file.endswith(\".hdf\") in file:\n",
        "        hdf_files.append(os.path.join(input_dir, file))"
      ],
      "metadata": {
        "id": "cKnePY4476ZR"
      },
      "execution_count": null,
      "outputs": []
    },
    {
      "cell_type": "code",
      "source": [
        "# Iterate through the list of .hdf files and perform the subset\n",
        "for hdf_file in hdf_files:\n",
        "    # Set the output file name\n",
        "    output_file = os.path.join(output_dir, os.path.basename(hdf_file))\n",
        "    output_file = os.path.splitext(output_file)[0] + \".tif\"\n",
        "    print(hdf_file)\n",
        "    # Perform the subset\n",
        "    arcpy.SubsetMultidimensionalRaster_md(hdf_file,output_file, layer_name)\n",
        "\n",
        "print(\"Process complete\")"
      ],
      "metadata": {
        "id": "sMV7bFxG8iEY"
      },
      "execution_count": null,
      "outputs": []
    }
  ]
}
